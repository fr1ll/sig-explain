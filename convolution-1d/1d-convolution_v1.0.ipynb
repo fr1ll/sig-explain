{
 "cells": [
  {
   "cell_type": "markdown",
   "id": "7b4f07d3-633d-4e51-bbf5-f3e81e8b6e6b",
   "metadata": {},
   "source": [
    "# 1D convolution and correlation in SRME and IMP\n",
    "\n",
    "Convolution and cross-correlation have broad usefulness in signal processing. Most recently, they've gotten a lot of attention in context of Deep Learning. Brandon Rohrer has an excellent set of explanations of 1D convolution in this context. I've adapted his visualization style for this article.\n",
    "\n",
    "This article focuses on convolution in seismic data processing. \n",
    "\n",
    "The math in seismic processing is the same as in the Deep Learning application. There are a few key differences in how it typically looks, though:\n",
    "1. Signals are shown with the time axis oriented vertically. This is because events appearing later in time often represent information from deeper in the earth below our feet. (picture of flipping a horizontal thing to make it vertical)\n",
    "2. We usually only care about results after zero. \"Time zero\" roughly corresponnds to the moment of making a seismic signal, while time > 0 starts to show the earth's response from this signal. (gif of truncating the signal)\n",
    "3. The convolution kernel can be hundreds or thousands of samples long. In the case of auto-convolution i.e. SRME, the convolution kernel is as long as the signal with which we're convolving. (gif of extending the size of the convolution kernel)\n",
    "\n",
    "[Surface-Related Multiple Elimination (SRME)](https://wiki.seg.org/wiki/Surface-related_multiple_elimination) convolves a region of 1D signals with itself to create a model of how these signals will reverberate from the free surface. The result is called a *surface multiple model*. A related process called Jakubowicz-style Internal Multiple Prediction (here, J-IMP) does the same \"auto-convolution\" as in SRME, but also applies a \"cross-correlation\" which removes some events. The result from J-IMP is a *internal multiple model*.\n",
    "\n",
    "The following interactive sections break down some of the math behind convolution for making multiple models."
   ]
  },
  {
   "cell_type": "markdown",
   "id": "58f05108-7569-4fbb-81f7-bc88ec83c1dd",
   "metadata": {},
   "source": [
    "## 1D convolution"
   ]
  },
  {
   "cell_type": "code",
   "execution_count": 5,
   "id": "2fadf741-99cb-4aa6-ab13-40d405e094dc",
   "metadata": {
    "execution": {
     "iopub.execute_input": "2022-03-14T17:32:57.144499Z",
     "iopub.status.busy": "2022-03-14T17:32:57.143288Z",
     "iopub.status.idle": "2022-03-14T17:32:57.152553Z",
     "shell.execute_reply": "2022-03-14T17:32:57.150723Z",
     "shell.execute_reply.started": "2022-03-14T17:32:57.144436Z"
    },
    "tags": []
   },
   "outputs": [],
   "source": [
    "import numpy as np # math stuff\n",
    "import numba # make the math faster\n",
    "from einops import rearrange, reduce, repeat # re-arrangements\n",
    "import xarray as xr # labeled axes"
   ]
  },
  {
   "cell_type": "code",
   "execution_count": null,
   "id": "f3bb5c60-e71e-4ad9-81f9-dc03f335f879",
   "metadata": {},
   "outputs": [],
   "source": []
  },
  {
   "cell_type": "code",
   "execution_count": null,
   "id": "66f82306-fdd7-4880-ae07-c5b3d3b99237",
   "metadata": {},
   "outputs": [],
   "source": [
    "xcorr_1d_align(A: np.array, A_times: np.array, \n",
    "               B: np.array, B_times: np.array) -> tuple(np.array):\n",
    "    '''\n",
    "    zero-pad as needed for cross-correlation\n",
    "    '''\n",
    "    \n",
    "    "
   ]
  },
  {
   "cell_type": "code",
   "execution_count": null,
   "id": "fc1f42e7-135a-455f-96b4-645f9116ac11",
   "metadata": {},
   "outputs": [],
   "source": [
    "xcorr_1d(A: np.array, B: np.array) -> np.array:\n",
    "    '''\n",
    "    perform 1d cross-correlation (sliding dot-product)\n",
    "    of an n-dimensional array\n",
    "    '''\n",
    "    assert len(A) >= len(B)\n",
    "    if len(B) < "
   ]
  },
  {
   "cell_type": "markdown",
   "id": "a82ddfd7-ffb8-4807-827d-3ab9989e0aed",
   "metadata": {},
   "source": [
    "## BYOS (Bring Your Own Signal)"
   ]
  },
  {
   "cell_type": "markdown",
   "id": "1b8a2cd2-cecb-49d3-8ee8-6b78f51f4aa6",
   "metadata": {},
   "source": [
    "## Why flip the kernel?"
   ]
  },
  {
   "cell_type": "markdown",
   "id": "1ac49f2e-39cf-46c7-aaaa-1b2955e71883",
   "metadata": {},
   "source": [
    "## 1D convolution of 2D gathers\n",
    "\n",
    "A *gather* in seismic processing parlance is a collection of 1D signals. (1D signals are usually called *traces*.) Usually, the traces within a gather are ordered such that some value increases monotonically.\n",
    "\n",
    "What happens when we 1d-convolve two gathers together?\n",
    "\n",
    "What's the physical meaning of this result?\n",
    "\n",
    "It's *close* to being a model of the reflections from the free surface in this case. However, to get a model with the correct event timings, for each output trace, we'd need to convolve a region of inputs -- the shortest arrival energy might not come from vertical propagation as we show here. We'll give some references to this full process in the last section (\"What we aren't showing\")."
   ]
  },
  {
   "cell_type": "markdown",
   "id": "669d1b57-f5ce-45ae-b760-80a71b9eb2c6",
   "metadata": {},
   "source": [
    "## Removing an event from the 2D gather\n",
    "\n",
    "Jakubowicz-style internal multiple prediction is an extension of SRME. J-IMP uses convolution to combine two events, *then* does cross-correlation to "
   ]
  },
  {
   "cell_type": "markdown",
   "id": "32ce902c-33d0-4827-985b-d05cc70bf37a",
   "metadata": {},
   "source": [
    "## What we aren't showing here: gather, convolve, stack\n",
    "\n",
    "SRME performs three main steps.\n",
    "1. Gather\n",
    "2. Convolve\n",
    "3. Stack\n",
    "\n",
    "We've shown a simplistic version of Step 1, then lots of detail on Step 2, and zero detail on Step 3. It's the full combination of these three steps that allows SRME and J-IMP to model any combination of events, even for a complex, dipping sub-surface.\n",
    "\n",
    "Here are a few good references on the full process:\n",
    "- 1992 paper by DELFT\n",
    "- A Perspective on 3D Multiple Attenuation\n",
    "- Jakubowicz paper\n",
    "- XIMP paper\n",
    "\n",
    "Let us know how you liked this explainer! Are there any related topics that would be helpful to show in this kind of interactive format? Do you have any other ways to think about convolution that you think would be worth sharing?"
   ]
  },
  {
   "cell_type": "code",
   "execution_count": null,
   "id": "50926951-bb9d-4632-9dd6-b70922d8e482",
   "metadata": {},
   "outputs": [],
   "source": []
  }
 ],
 "metadata": {
  "kernelspec": {
   "display_name": "Python 3 (ipykernel)",
   "language": "python",
   "name": "python3"
  },
  "language_info": {
   "codemirror_mode": {
    "name": "ipython",
    "version": 3
   },
   "file_extension": ".py",
   "mimetype": "text/x-python",
   "name": "python",
   "nbconvert_exporter": "python",
   "pygments_lexer": "ipython3",
   "version": "3.7.6"
  }
 },
 "nbformat": 4,
 "nbformat_minor": 5
}
