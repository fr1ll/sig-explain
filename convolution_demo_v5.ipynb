{
 "cells": [
  {
   "cell_type": "code",
   "execution_count": 1,
   "metadata": {
    "execution": {
     "iopub.execute_input": "2022-02-22T04:38:21.535969Z",
     "iopub.status.busy": "2022-02-22T04:38:21.535480Z",
     "iopub.status.idle": "2022-02-22T04:38:23.033829Z",
     "shell.execute_reply": "2022-02-22T04:38:23.032093Z",
     "shell.execute_reply.started": "2022-02-22T04:38:21.535943Z"
    }
   },
   "outputs": [],
   "source": [
    "import bruges\n",
    "import numpy as np\n",
    "import matplotlib.pyplot as plt\n",
    "import math\n",
    "\n",
    "# celluloid for easier matplotlib animations\n",
    "from IPython.display import HTML\n",
    "from celluloid import Camera"
   ]
  },
  {
   "cell_type": "markdown",
   "metadata": {},
   "source": [
    "To do:\n",
    "\n",
    "- figure out if I need to pad everything so it's centered at zero"
   ]
  },
  {
   "cell_type": "code",
   "execution_count": 2,
   "metadata": {
    "execution": {
     "iopub.execute_input": "2022-02-22T04:38:23.036225Z",
     "iopub.status.busy": "2022-02-22T04:38:23.035741Z",
     "iopub.status.idle": "2022-02-22T04:38:23.041296Z",
     "shell.execute_reply": "2022-02-22T04:38:23.040089Z",
     "shell.execute_reply.started": "2022-02-22T04:38:23.036188Z"
    }
   },
   "outputs": [],
   "source": [
    "DURATION=0.5\n",
    "DT=0.01\n",
    "CENTER_FREQ=16"
   ]
  },
  {
   "cell_type": "code",
   "execution_count": 3,
   "metadata": {
    "execution": {
     "iopub.execute_input": "2022-02-22T04:38:23.042773Z",
     "iopub.status.busy": "2022-02-22T04:38:23.042544Z",
     "iopub.status.idle": "2022-02-22T04:38:23.170034Z",
     "shell.execute_reply": "2022-02-22T04:38:23.169329Z",
     "shell.execute_reply.started": "2022-02-22T04:38:23.042753Z"
    }
   },
   "outputs": [
    {
     "data": {
      "image/png": "[encoded data removed]",
      "text/plain": [
       "<Figure size 432x288 with 1 Axes>"
      ]
     },
     "metadata": {
      "needs_background": "light"
     },
     "output_type": "display_data"
    }
   ],
   "source": [
    "rickerin, times = bruges.filters.wavelets.ricker(duration=DURATION, dt=DT, f=CENTER_FREQ, return_t=True)\n",
    "\n",
    "# shift amplitudes to positive times and pad the negative times\n",
    "rickerin = np.hstack([0*times[1:], rickerin])\n",
    "# shift so first sample is at time zero\n",
    "times += -1*times[0]\n",
    "# zero pad the time axis\n",
    "times = np.hstack([-1*times[:0:-1], times])\n",
    "\n",
    "plt.stem(times, rickerin, use_line_collection=True)\n",
    "plt.show()"
   ]
  },
  {
   "cell_type": "code",
   "execution_count": 4,
   "metadata": {
    "execution": {
     "iopub.execute_input": "2022-02-22T04:38:23.171083Z",
     "iopub.status.busy": "2022-02-22T04:38:23.170859Z",
     "iopub.status.idle": "2022-02-22T04:38:23.296582Z",
     "shell.execute_reply": "2022-02-22T04:38:23.295554Z",
     "shell.execute_reply.started": "2022-02-22T04:38:23.171059Z"
    }
   },
   "outputs": [
    {
     "data": {
      "image/png": "[encoded data removed]",
      "text/plain": [
       "<Figure size 432x288 with 1 Axes>"
      ]
     },
     "metadata": {
      "needs_background": "light"
     },
     "output_type": "display_data"
    }
   ],
   "source": [
    "ramp = np.pad(np.ones(1),[8,0], mode=\"linear_ramp\")\n",
    "ramp = np.pad(ramp,[71,21])\n",
    "plt.stem(times, ramp, use_line_collection=True)\n",
    "plt.show()"
   ]
  },
  {
   "cell_type": "code",
   "execution_count": 5,
   "metadata": {
    "execution": {
     "iopub.execute_input": "2022-02-22T04:38:23.298422Z",
     "iopub.status.busy": "2022-02-22T04:38:23.298210Z",
     "iopub.status.idle": "2022-02-22T04:38:23.384280Z",
     "shell.execute_reply": "2022-02-22T04:38:23.383499Z",
     "shell.execute_reply.started": "2022-02-22T04:38:23.298396Z"
    }
   },
   "outputs": [
    {
     "data": {
      "image/png": "[encoded data removed]",
      "text/plain": [
       "<Figure size 432x288 with 1 Axes>"
      ]
     },
     "metadata": {
      "needs_background": "light"
     },
     "output_type": "display_data"
    }
   ],
   "source": [
    "twospikes = np.hstack((np.pad(np.ones(1),[58,4]),-0.5*np.pad(np.ones(1),[4,33])))\n",
    "plt.stem(times, twospikes, use_line_collection=True)\n",
    "plt.show()"
   ]
  },
  {
   "cell_type": "code",
   "execution_count": 6,
   "metadata": {
    "execution": {
     "iopub.execute_input": "2022-02-22T04:38:23.385697Z",
     "iopub.status.busy": "2022-02-22T04:38:23.385517Z",
     "iopub.status.idle": "2022-02-22T04:38:23.472716Z",
     "shell.execute_reply": "2022-02-22T04:38:23.471472Z",
     "shell.execute_reply.started": "2022-02-22T04:38:23.385678Z"
    }
   },
   "outputs": [
    {
     "data": {
      "image/png": "[encoded data removed]",
      "text/plain": [
       "<Figure size 432x288 with 1 Axes>"
      ]
     },
     "metadata": {
      "needs_background": "light"
     },
     "output_type": "display_data"
    }
   ],
   "source": [
    "# spike_a = np.hstack((np.pad(np.ones(1),2),np.pad(np.ones(1),[7])))\n",
    "spike_b = np.pad(np.ones(1),[75,25])\n",
    "plt.stem(times, spike_b, use_line_collection=True, orientation=\"horizontal\")\n",
    "ax = plt.gca(); ax.invert_yaxis()\n",
    "plt.show()"
   ]
  },
  {
   "cell_type": "code",
   "execution_count": 7,
   "metadata": {
    "execution": {
     "iopub.execute_input": "2022-02-22T04:38:23.474217Z",
     "iopub.status.busy": "2022-02-22T04:38:23.473984Z",
     "iopub.status.idle": "2022-02-22T04:38:23.480931Z",
     "shell.execute_reply": "2022-02-22T04:38:23.479799Z",
     "shell.execute_reply.started": "2022-02-22T04:38:23.474193Z"
    }
   },
   "outputs": [],
   "source": [
    "def td_kernel_mult(trace_a, trace_b, times):\n",
    "    '''\n",
    "    for two traces, return three generators:\n",
    "    0: steps of the kernel being multiplied\n",
    "    1: zero-padded result of multiplying this kernel and summing\n",
    "    2: running sum of these results, which will become the convolution result\n",
    "    '''\n",
    "    assert len(trace_a.shape) == 1\n",
    "    assert len(trace_a.shape) == 1\n",
    "    \n",
    "    if trace_a.shape[0] <= trace_b.shape[0]:\n",
    "        a = trace_a\n",
    "        b = trace_b[::-1]\n",
    "    else:\n",
    "        a = trace_b\n",
    "        b = trace_a[::-1]\n",
    "    \n",
    "    steps = b.shape[0]\n",
    "\n",
    "    # output starts as blank\n",
    "    result = np.zeros(steps)\n",
    "    kernel_halfwidth = math.ceil(steps/2)\n",
    "    kernel = np.pad(b, kernel_halfwidth)\n",
    "    \n",
    "    for i in range(steps):\n",
    "        kernel_step = kernel[steps-i:2*steps-i]\n",
    "        step_mult = a*kernel_step\n",
    "        step_add = np.pad([np.sum(step_mult)],(i,steps-i-1))\n",
    "        result += step_add\n",
    "        yield kernel_step, step_mult, step_add, result"
   ]
  },
  {
   "cell_type": "code",
   "execution_count": 9,
   "metadata": {
    "execution": {
     "iopub.execute_input": "2022-02-22T04:38:45.058931Z",
     "iopub.status.busy": "2022-02-22T04:38:45.058648Z",
     "iopub.status.idle": "2022-02-22T04:38:57.404041Z",
     "shell.execute_reply": "2022-02-22T04:38:57.403439Z",
     "shell.execute_reply.started": "2022-02-22T04:38:45.058883Z"
    },
    "tags": []
   },
   "outputs": [
    {
     "data": {
      "image/png": "[encoded data removed]",
      "text/plain": [
       "<Figure size 576x576 with 6 Axes>"
      ]
     },
     "metadata": {},
     "output_type": "display_data"
    }
   ],
   "source": [
    "# We'll use celluloid to make the movie\n",
    "fig = plt.figure(figsize=(8,8))\n",
    "fig.patch.set_alpha(1.)\n",
    "gs = fig.add_gridspec(1, 6, wspace=0)\n",
    "axes = gs.subplots(sharey=True,)\n",
    "# axes.set_ylim(max(times),min(times))\n",
    "camera = Camera(fig)\n",
    "[a.set_ylim(max(times),0) for a in axes]\n",
    "\n",
    "titles = [\"sig A\", \"sig B\", \"slide kernel\", \"A*kernel\", \"sum@center\", \"output\"]\n",
    "[axes[i].set_title(t) for i, t in enumerate(titles)]\n",
    "\n",
    "time_iter = iter(times)\n",
    "\n",
    "for out in td_kernel_mult(ramp, twospikes, times):\n",
    "    t = next(time_iter)\n",
    "    if t < 0: continue\n",
    "    else:\n",
    "        axes[0].stem(times, ramp, use_line_collection=True, orientation=\"horizontal\")\n",
    "        axes[1].stem(times, twospikes, use_line_collection=True, orientation=\"horizontal\")\n",
    "        axes[2].stem(times, out[0], use_line_collection=True, orientation=\"horizontal\")\n",
    "        axes[3].stem(times, out[1], use_line_collection=True, orientation=\"horizontal\")\n",
    "        axes[4].stem(times, out[2], use_line_collection=True, orientation=\"horizontal\")\n",
    "        axes[5].stem(times, out[3], use_line_collection=True, orientation=\"horizontal\")\n",
    "    camera.snap();\n",
    "animation = camera.animate()\n",
    "HTML(animation.to_html5_video())\n",
    "# animation.save(\"2022-02-17_ramp_two-spikes_convolution.mp4\", dpi=100, bitrate=-1)\n",
    "animation.save(\"2022-02-17_ramp_two-spikes_convolution.gif\")"
   ]
  }
 ],
 "metadata": {
  "kernelspec": {
   "display_name": "Python [conda env:root] *",
   "language": "python",
   "name": "conda-root-py"
  },
  "language_info": {
   "codemirror_mode": {
    "name": "ipython",
    "version": 3
   },
   "file_extension": ".py",
   "mimetype": "text/x-python",
   "name": "python",
   "nbconvert_exporter": "python",
   "pygments_lexer": "ipython3",
   "version": "3.7.6"
  }
 },
 "nbformat": 4,
 "nbformat_minor": 4
}
